{
  "cells": [
    {
      "cell_type": "markdown",
      "source": [
        "**STEP 1:** Preliminary language-specific commands"
      ],
      "metadata": {
        "id": "TLGbIE1HQIqm"
      }
    },
    {
      "cell_type": "code",
      "execution_count": 56,
      "metadata": {
        "id": "sHCrXpKu-X_a"
      },
      "outputs": [],
      "source": [
        "import os\n",
        "import numpy as np # same modules as before\n",
        "import pandas as pd\n",
        "from sklearn import neural_network, model_selection, metrics\n",
        "\n",
        "import tensorflow as tf # for deep learning modules\n",
        "from keras.datasets import mnist\n",
        "from keras.layers import Conv2D, Dense, Flatten, MaxPooling2D\n",
        "from keras.models import Sequential\n",
        "from keras.utils import np_utils\n",
        "from tensorflow.keras import optimizers, metrics"
      ]
    },
    {
      "cell_type": "markdown",
      "source": [
        "**STEP 2:** Load the data\n",
        "\n",
        "**STEP 5:** Shuffle the samples and split into train and test (step order based on run_ann.py)"
      ],
      "metadata": {
        "id": "fQ9ZO8jKTD1H"
      }
    },
    {
      "cell_type": "code",
      "source": [
        "# keras' built-in datasets already take care of train/test split\n",
        "(train_in, train_out), (test_in, test_out) = mnist.load_data()"
      ],
      "metadata": {
        "id": "afbaerRGTGtG"
      },
      "execution_count": 57,
      "outputs": []
    },
    {
      "cell_type": "markdown",
      "source": [
        "**STEP 4:** Scale and reshape the data"
      ],
      "metadata": {
        "id": "WI0OswaaS20b"
      }
    },
    {
      "cell_type": "code",
      "source": [
        "# Data must be four-dimensional to can work with the Keras API\n",
        "train_in = train_in.reshape(train_in.shape[0], train_in.shape[1], train_in.shape[2], 1)\n",
        "test_in = test_in.reshape(test_in.shape[0], test_in.shape[1], test_in.shape[2], 1)\n",
        "train_in = train_in.astype(\"float32\")\n",
        "test_in = test_in.astype(\"float32\")\n",
        "\n",
        "# Scaling\n",
        "train_in /= 255\n",
        "test_in /= 255\n",
        "\n",
        "# using 10 here because that is the number of possible classifications (10 unique digits)\n",
        "train_out = np_utils.to_categorical(train_out, 10)\n",
        "test_out = np_utils.to_categorical(test_out, 10)"
      ],
      "metadata": {
        "id": "sXOEXdIKS504"
      },
      "execution_count": 58,
      "outputs": []
    },
    {
      "cell_type": "markdown",
      "source": [
        "**STEP 3:** Determine the CNN hyperparameters"
      ],
      "metadata": {
        "id": "nImqVLmESmQj"
      }
    },
    {
      "cell_type": "code",
      "source": [
        "# here, we must build each layer of the CNN\n",
        "cnn = Sequential()\n",
        "cnn.add(Conv2D(8, (3, 3), activation=\"relu\", input_shape=(28, 28, 1)))\n",
        "cnn.add(Conv2D(16, (3, 3), activation=\"relu\"))\n",
        "cnn.add(MaxPooling2D(pool_size=(2,2)))\n",
        "cnn.add(Conv2D(32, (3, 3), activation=\"relu\"))\n",
        "cnn.add(MaxPooling2D(pool_size=(2,2)))\n",
        "cnn.add(Conv2D(64, (3, 3), activation=\"relu\"))\n",
        "cnn.add(MaxPooling2D(pool_size=(2,2)))\n",
        "cnn.add(Conv2D(128, (1, 1), activation=\"relu\"))\n",
        "cnn.add(MaxPooling2D(pool_size=(1,1)))\n",
        "cnn.add(Flatten())\n",
        "cnn.add(Dense(128, activation=\"relu\"))\n",
        "cnn.add(Dense(10, activation=\"softmax\"))\n",
        "\n",
        "method = optimizers.SGD(learning_rate=0.01) # set training method and learning rate"
      ],
      "metadata": {
        "id": "BSIY6PmsSzGD"
      },
      "execution_count": 59,
      "outputs": []
    },
    {
      "cell_type": "markdown",
      "source": [
        "**STEP 6:** Train the ANN"
      ],
      "metadata": {
        "id": "9vAsKoHxSa6_"
      }
    },
    {
      "cell_type": "code",
      "source": [
        "# select type of loss (cross-entropy) and metric\n",
        "# F1 score is not available but you can obtain precision and recall, then calculate F1 manually\n",
        "cnn.compile(optimizer=method, loss=\"categorical_crossentropy\", metrics=[\"accuracy\"])\n",
        "\n",
        "cnn.fit(train_in, train_out, epochs=20, batch_size=128)"
      ],
      "metadata": {
        "colab": {
          "base_uri": "https://localhost:8080/"
        },
        "id": "5Fzc23LOSfiD",
        "outputId": "29278106-82a1-46ab-fd28-e52279fdfc59"
      },
      "execution_count": 60,
      "outputs": [
        {
          "output_type": "stream",
          "name": "stdout",
          "text": [
            "Epoch 1/20\n",
            "469/469 [==============================] - 3s 6ms/step - loss: 2.2980 - accuracy: 0.1606\n",
            "Epoch 2/20\n",
            "469/469 [==============================] - 3s 6ms/step - loss: 2.2735 - accuracy: 0.2534\n",
            "Epoch 3/20\n",
            "469/469 [==============================] - 3s 6ms/step - loss: 1.3077 - accuracy: 0.6298\n",
            "Epoch 4/20\n",
            "469/469 [==============================] - 3s 6ms/step - loss: 0.3001 - accuracy: 0.9068\n",
            "Epoch 5/20\n",
            "469/469 [==============================] - 3s 6ms/step - loss: 0.1997 - accuracy: 0.9384\n",
            "Epoch 6/20\n",
            "469/469 [==============================] - 3s 6ms/step - loss: 0.1591 - accuracy: 0.9516\n",
            "Epoch 7/20\n",
            "469/469 [==============================] - 3s 6ms/step - loss: 0.1327 - accuracy: 0.9587\n",
            "Epoch 8/20\n",
            "469/469 [==============================] - 3s 6ms/step - loss: 0.1194 - accuracy: 0.9631\n",
            "Epoch 9/20\n",
            "469/469 [==============================] - 3s 6ms/step - loss: 0.1057 - accuracy: 0.9683\n",
            "Epoch 10/20\n",
            "469/469 [==============================] - 3s 6ms/step - loss: 0.0983 - accuracy: 0.9697\n",
            "Epoch 11/20\n",
            "469/469 [==============================] - 3s 6ms/step - loss: 0.0894 - accuracy: 0.9728\n",
            "Epoch 12/20\n",
            "469/469 [==============================] - 3s 6ms/step - loss: 0.0840 - accuracy: 0.9745\n",
            "Epoch 13/20\n",
            "469/469 [==============================] - 3s 6ms/step - loss: 0.0791 - accuracy: 0.9751\n",
            "Epoch 14/20\n",
            "469/469 [==============================] - 3s 6ms/step - loss: 0.0732 - accuracy: 0.9781\n",
            "Epoch 15/20\n",
            "469/469 [==============================] - 3s 6ms/step - loss: 0.0683 - accuracy: 0.9792\n",
            "Epoch 16/20\n",
            "469/469 [==============================] - 3s 6ms/step - loss: 0.0648 - accuracy: 0.9808\n",
            "Epoch 17/20\n",
            "469/469 [==============================] - 3s 6ms/step - loss: 0.0613 - accuracy: 0.9816\n",
            "Epoch 18/20\n",
            "469/469 [==============================] - 3s 6ms/step - loss: 0.0589 - accuracy: 0.9821\n",
            "Epoch 19/20\n",
            "469/469 [==============================] - 3s 6ms/step - loss: 0.0564 - accuracy: 0.9826\n",
            "Epoch 20/20\n",
            "469/469 [==============================] - 3s 6ms/step - loss: 0.0540 - accuracy: 0.9834\n"
          ]
        },
        {
          "output_type": "execute_result",
          "data": {
            "text/plain": [
              "<keras.callbacks.History at 0x7fa2aebeedd0>"
            ]
          },
          "metadata": {},
          "execution_count": 60
        }
      ]
    },
    {
      "cell_type": "markdown",
      "source": [
        "**STEP 7:** Predict training outputs"
      ],
      "metadata": {
        "id": "3rzuWpIASUfH"
      }
    },
    {
      "cell_type": "code",
      "source": [
        "pred_train_out = cnn.predict(train_in)\n",
        "\n",
        "# display predicted training outputs\n",
        "train_compare = pd.DataFrame(pred_train_out)\n",
        "display(train_compare)"
      ],
      "metadata": {
        "colab": {
          "base_uri": "https://localhost:8080/",
          "height": 424
        },
        "id": "k2zcEGqbSXpu",
        "outputId": "591534d7-a7ee-4eb4-e28c-3ec32e72a93f"
      },
      "execution_count": 61,
      "outputs": [
        {
          "output_type": "display_data",
          "data": {
            "text/html": [
              "\n",
              "  <div id=\"df-3ec4d446-7271-4a6f-ae77-54f188045a76\">\n",
              "    <div class=\"colab-df-container\">\n",
              "      <div>\n",
              "<style scoped>\n",
              "    .dataframe tbody tr th:only-of-type {\n",
              "        vertical-align: middle;\n",
              "    }\n",
              "\n",
              "    .dataframe tbody tr th {\n",
              "        vertical-align: top;\n",
              "    }\n",
              "\n",
              "    .dataframe thead th {\n",
              "        text-align: right;\n",
              "    }\n",
              "</style>\n",
              "<table border=\"1\" class=\"dataframe\">\n",
              "  <thead>\n",
              "    <tr style=\"text-align: right;\">\n",
              "      <th></th>\n",
              "      <th>0</th>\n",
              "      <th>1</th>\n",
              "      <th>2</th>\n",
              "      <th>3</th>\n",
              "      <th>4</th>\n",
              "      <th>5</th>\n",
              "      <th>6</th>\n",
              "      <th>7</th>\n",
              "      <th>8</th>\n",
              "      <th>9</th>\n",
              "    </tr>\n",
              "  </thead>\n",
              "  <tbody>\n",
              "    <tr>\n",
              "      <th>0</th>\n",
              "      <td>1.115588e-08</td>\n",
              "      <td>3.265633e-08</td>\n",
              "      <td>4.787224e-06</td>\n",
              "      <td>6.656150e-01</td>\n",
              "      <td>5.628019e-12</td>\n",
              "      <td>3.341227e-01</td>\n",
              "      <td>6.575051e-09</td>\n",
              "      <td>6.711620e-06</td>\n",
              "      <td>2.506441e-04</td>\n",
              "      <td>2.524777e-07</td>\n",
              "    </tr>\n",
              "    <tr>\n",
              "      <th>1</th>\n",
              "      <td>9.999416e-01</td>\n",
              "      <td>6.733116e-08</td>\n",
              "      <td>8.669520e-06</td>\n",
              "      <td>1.009173e-07</td>\n",
              "      <td>5.366571e-09</td>\n",
              "      <td>3.168864e-06</td>\n",
              "      <td>3.840189e-06</td>\n",
              "      <td>1.727582e-06</td>\n",
              "      <td>1.000186e-07</td>\n",
              "      <td>4.067512e-05</td>\n",
              "    </tr>\n",
              "    <tr>\n",
              "      <th>2</th>\n",
              "      <td>1.427577e-03</td>\n",
              "      <td>6.090386e-04</td>\n",
              "      <td>2.154811e-02</td>\n",
              "      <td>2.382792e-02</td>\n",
              "      <td>9.207859e-01</td>\n",
              "      <td>3.630320e-03</td>\n",
              "      <td>1.428003e-03</td>\n",
              "      <td>2.068520e-02</td>\n",
              "      <td>1.268219e-04</td>\n",
              "      <td>5.931166e-03</td>\n",
              "    </tr>\n",
              "    <tr>\n",
              "      <th>3</th>\n",
              "      <td>1.061620e-04</td>\n",
              "      <td>9.949771e-01</td>\n",
              "      <td>4.323366e-04</td>\n",
              "      <td>3.053069e-05</td>\n",
              "      <td>5.241856e-05</td>\n",
              "      <td>1.743015e-05</td>\n",
              "      <td>3.166250e-05</td>\n",
              "      <td>3.711804e-03</td>\n",
              "      <td>6.375764e-04</td>\n",
              "      <td>3.054704e-06</td>\n",
              "    </tr>\n",
              "    <tr>\n",
              "      <th>4</th>\n",
              "      <td>4.056609e-08</td>\n",
              "      <td>1.533615e-09</td>\n",
              "      <td>2.564194e-07</td>\n",
              "      <td>3.607500e-04</td>\n",
              "      <td>1.653852e-04</td>\n",
              "      <td>1.233118e-06</td>\n",
              "      <td>1.162587e-11</td>\n",
              "      <td>5.280921e-04</td>\n",
              "      <td>8.132640e-05</td>\n",
              "      <td>9.988630e-01</td>\n",
              "    </tr>\n",
              "    <tr>\n",
              "      <th>...</th>\n",
              "      <td>...</td>\n",
              "      <td>...</td>\n",
              "      <td>...</td>\n",
              "      <td>...</td>\n",
              "      <td>...</td>\n",
              "      <td>...</td>\n",
              "      <td>...</td>\n",
              "      <td>...</td>\n",
              "      <td>...</td>\n",
              "      <td>...</td>\n",
              "    </tr>\n",
              "    <tr>\n",
              "      <th>59995</th>\n",
              "      <td>5.749417e-07</td>\n",
              "      <td>3.680501e-09</td>\n",
              "      <td>1.305986e-04</td>\n",
              "      <td>4.088492e-04</td>\n",
              "      <td>3.328506e-10</td>\n",
              "      <td>8.843237e-05</td>\n",
              "      <td>2.206608e-08</td>\n",
              "      <td>4.458199e-07</td>\n",
              "      <td>9.993693e-01</td>\n",
              "      <td>1.844765e-06</td>\n",
              "    </tr>\n",
              "    <tr>\n",
              "      <th>59996</th>\n",
              "      <td>3.664644e-12</td>\n",
              "      <td>1.176913e-13</td>\n",
              "      <td>3.565455e-07</td>\n",
              "      <td>9.999987e-01</td>\n",
              "      <td>2.658048e-13</td>\n",
              "      <td>3.739652e-07</td>\n",
              "      <td>9.860968e-15</td>\n",
              "      <td>8.466590e-08</td>\n",
              "      <td>5.947938e-09</td>\n",
              "      <td>4.737621e-07</td>\n",
              "    </tr>\n",
              "    <tr>\n",
              "      <th>59997</th>\n",
              "      <td>1.361831e-09</td>\n",
              "      <td>1.065894e-09</td>\n",
              "      <td>2.928681e-09</td>\n",
              "      <td>1.111233e-04</td>\n",
              "      <td>1.004415e-09</td>\n",
              "      <td>9.997563e-01</td>\n",
              "      <td>1.769618e-10</td>\n",
              "      <td>2.688388e-07</td>\n",
              "      <td>7.732836e-05</td>\n",
              "      <td>5.513980e-05</td>\n",
              "    </tr>\n",
              "    <tr>\n",
              "      <th>59998</th>\n",
              "      <td>2.786225e-04</td>\n",
              "      <td>9.000942e-08</td>\n",
              "      <td>6.891226e-06</td>\n",
              "      <td>2.093469e-06</td>\n",
              "      <td>1.539828e-06</td>\n",
              "      <td>5.090727e-05</td>\n",
              "      <td>9.996290e-01</td>\n",
              "      <td>1.297061e-07</td>\n",
              "      <td>2.917101e-05</td>\n",
              "      <td>1.611999e-06</td>\n",
              "    </tr>\n",
              "    <tr>\n",
              "      <th>59999</th>\n",
              "      <td>1.545297e-04</td>\n",
              "      <td>6.767836e-07</td>\n",
              "      <td>2.729633e-03</td>\n",
              "      <td>2.277529e-05</td>\n",
              "      <td>1.293318e-07</td>\n",
              "      <td>4.390777e-05</td>\n",
              "      <td>1.747358e-07</td>\n",
              "      <td>3.492987e-04</td>\n",
              "      <td>9.964294e-01</td>\n",
              "      <td>2.695742e-04</td>\n",
              "    </tr>\n",
              "  </tbody>\n",
              "</table>\n",
              "<p>60000 rows × 10 columns</p>\n",
              "</div>\n",
              "      <button class=\"colab-df-convert\" onclick=\"convertToInteractive('df-3ec4d446-7271-4a6f-ae77-54f188045a76')\"\n",
              "              title=\"Convert this dataframe to an interactive table.\"\n",
              "              style=\"display:none;\">\n",
              "        \n",
              "  <svg xmlns=\"http://www.w3.org/2000/svg\" height=\"24px\"viewBox=\"0 0 24 24\"\n",
              "       width=\"24px\">\n",
              "    <path d=\"M0 0h24v24H0V0z\" fill=\"none\"/>\n",
              "    <path d=\"M18.56 5.44l.94 2.06.94-2.06 2.06-.94-2.06-.94-.94-2.06-.94 2.06-2.06.94zm-11 1L8.5 8.5l.94-2.06 2.06-.94-2.06-.94L8.5 2.5l-.94 2.06-2.06.94zm10 10l.94 2.06.94-2.06 2.06-.94-2.06-.94-.94-2.06-.94 2.06-2.06.94z\"/><path d=\"M17.41 7.96l-1.37-1.37c-.4-.4-.92-.59-1.43-.59-.52 0-1.04.2-1.43.59L10.3 9.45l-7.72 7.72c-.78.78-.78 2.05 0 2.83L4 21.41c.39.39.9.59 1.41.59.51 0 1.02-.2 1.41-.59l7.78-7.78 2.81-2.81c.8-.78.8-2.07 0-2.86zM5.41 20L4 18.59l7.72-7.72 1.47 1.35L5.41 20z\"/>\n",
              "  </svg>\n",
              "      </button>\n",
              "      \n",
              "  <style>\n",
              "    .colab-df-container {\n",
              "      display:flex;\n",
              "      flex-wrap:wrap;\n",
              "      gap: 12px;\n",
              "    }\n",
              "\n",
              "    .colab-df-convert {\n",
              "      background-color: #E8F0FE;\n",
              "      border: none;\n",
              "      border-radius: 50%;\n",
              "      cursor: pointer;\n",
              "      display: none;\n",
              "      fill: #1967D2;\n",
              "      height: 32px;\n",
              "      padding: 0 0 0 0;\n",
              "      width: 32px;\n",
              "    }\n",
              "\n",
              "    .colab-df-convert:hover {\n",
              "      background-color: #E2EBFA;\n",
              "      box-shadow: 0px 1px 2px rgba(60, 64, 67, 0.3), 0px 1px 3px 1px rgba(60, 64, 67, 0.15);\n",
              "      fill: #174EA6;\n",
              "    }\n",
              "\n",
              "    [theme=dark] .colab-df-convert {\n",
              "      background-color: #3B4455;\n",
              "      fill: #D2E3FC;\n",
              "    }\n",
              "\n",
              "    [theme=dark] .colab-df-convert:hover {\n",
              "      background-color: #434B5C;\n",
              "      box-shadow: 0px 1px 3px 1px rgba(0, 0, 0, 0.15);\n",
              "      filter: drop-shadow(0px 1px 2px rgba(0, 0, 0, 0.3));\n",
              "      fill: #FFFFFF;\n",
              "    }\n",
              "  </style>\n",
              "\n",
              "      <script>\n",
              "        const buttonEl =\n",
              "          document.querySelector('#df-3ec4d446-7271-4a6f-ae77-54f188045a76 button.colab-df-convert');\n",
              "        buttonEl.style.display =\n",
              "          google.colab.kernel.accessAllowed ? 'block' : 'none';\n",
              "\n",
              "        async function convertToInteractive(key) {\n",
              "          const element = document.querySelector('#df-3ec4d446-7271-4a6f-ae77-54f188045a76');\n",
              "          const dataTable =\n",
              "            await google.colab.kernel.invokeFunction('convertToInteractive',\n",
              "                                                     [key], {});\n",
              "          if (!dataTable) return;\n",
              "\n",
              "          const docLinkHtml = 'Like what you see? Visit the ' +\n",
              "            '<a target=\"_blank\" href=https://colab.research.google.com/notebooks/data_table.ipynb>data table notebook</a>'\n",
              "            + ' to learn more about interactive tables.';\n",
              "          element.innerHTML = '';\n",
              "          dataTable['output_type'] = 'display_data';\n",
              "          await google.colab.output.renderOutput(dataTable, element);\n",
              "          const docLink = document.createElement('div');\n",
              "          docLink.innerHTML = docLinkHtml;\n",
              "          element.appendChild(docLink);\n",
              "        }\n",
              "      </script>\n",
              "    </div>\n",
              "  </div>\n",
              "  "
            ],
            "text/plain": [
              "                  0             1  ...             8             9\n",
              "0      1.115588e-08  3.265633e-08  ...  2.506441e-04  2.524777e-07\n",
              "1      9.999416e-01  6.733116e-08  ...  1.000186e-07  4.067512e-05\n",
              "2      1.427577e-03  6.090386e-04  ...  1.268219e-04  5.931166e-03\n",
              "3      1.061620e-04  9.949771e-01  ...  6.375764e-04  3.054704e-06\n",
              "4      4.056609e-08  1.533615e-09  ...  8.132640e-05  9.988630e-01\n",
              "...             ...           ...  ...           ...           ...\n",
              "59995  5.749417e-07  3.680501e-09  ...  9.993693e-01  1.844765e-06\n",
              "59996  3.664644e-12  1.176913e-13  ...  5.947938e-09  4.737621e-07\n",
              "59997  1.361831e-09  1.065894e-09  ...  7.732836e-05  5.513980e-05\n",
              "59998  2.786225e-04  9.000942e-08  ...  2.917101e-05  1.611999e-06\n",
              "59999  1.545297e-04  6.767836e-07  ...  9.964294e-01  2.695742e-04\n",
              "\n",
              "[60000 rows x 10 columns]"
            ]
          },
          "metadata": {}
        }
      ]
    },
    {
      "cell_type": "markdown",
      "source": [
        "**STEP 8:** Get the training score"
      ],
      "metadata": {
        "id": "vE0zGSfwSJbP"
      }
    },
    {
      "cell_type": "code",
      "source": [
        "train_score = cnn.evaluate(train_in, train_out, verbose=0)\n",
        "\n",
        "train_results = [\"Training Loss (%): \", str(100 * train_score[0]), \"Training Accuracy (%): \", str(100 * train_score[1])]\n",
        "print(*train_results, sep=\"\\n\")    "
      ],
      "metadata": {
        "colab": {
          "base_uri": "https://localhost:8080/"
        },
        "id": "VDPRqIk4SM46",
        "outputId": "b75d8861-ad17-4c68-ac36-41d13db71c5f"
      },
      "execution_count": 62,
      "outputs": [
        {
          "output_type": "stream",
          "name": "stdout",
          "text": [
            "Training Loss (%): \n",
            "6.0118477791547775\n",
            "Training Accuracy (%): \n",
            "98.11999797821045\n"
          ]
        }
      ]
    },
    {
      "cell_type": "markdown",
      "source": [
        "**STEP 9:** Predict testing outputs"
      ],
      "metadata": {
        "id": "-YIPvqCoSAkx"
      }
    },
    {
      "cell_type": "code",
      "source": [
        "pred_test_out = cnn.predict(test_in)\n",
        "\n",
        "# display predicted training outputs\n",
        "test_compare = pd.DataFrame(pred_test_out)\n",
        "display(test_compare)"
      ],
      "metadata": {
        "colab": {
          "base_uri": "https://localhost:8080/",
          "height": 424
        },
        "id": "KOo26qdESDmo",
        "outputId": "26358817-eeb7-426f-c454-5285a0af6fac"
      },
      "execution_count": 63,
      "outputs": [
        {
          "output_type": "display_data",
          "data": {
            "text/html": [
              "\n",
              "  <div id=\"df-8c60b58e-1715-4d3c-a26f-3afd0d2df551\">\n",
              "    <div class=\"colab-df-container\">\n",
              "      <div>\n",
              "<style scoped>\n",
              "    .dataframe tbody tr th:only-of-type {\n",
              "        vertical-align: middle;\n",
              "    }\n",
              "\n",
              "    .dataframe tbody tr th {\n",
              "        vertical-align: top;\n",
              "    }\n",
              "\n",
              "    .dataframe thead th {\n",
              "        text-align: right;\n",
              "    }\n",
              "</style>\n",
              "<table border=\"1\" class=\"dataframe\">\n",
              "  <thead>\n",
              "    <tr style=\"text-align: right;\">\n",
              "      <th></th>\n",
              "      <th>0</th>\n",
              "      <th>1</th>\n",
              "      <th>2</th>\n",
              "      <th>3</th>\n",
              "      <th>4</th>\n",
              "      <th>5</th>\n",
              "      <th>6</th>\n",
              "      <th>7</th>\n",
              "      <th>8</th>\n",
              "      <th>9</th>\n",
              "    </tr>\n",
              "  </thead>\n",
              "  <tbody>\n",
              "    <tr>\n",
              "      <th>0</th>\n",
              "      <td>3.144344e-07</td>\n",
              "      <td>1.200504e-06</td>\n",
              "      <td>3.738206e-04</td>\n",
              "      <td>2.150646e-05</td>\n",
              "      <td>2.157044e-09</td>\n",
              "      <td>3.433117e-08</td>\n",
              "      <td>2.995451e-13</td>\n",
              "      <td>9.995843e-01</td>\n",
              "      <td>5.042979e-06</td>\n",
              "      <td>1.385890e-05</td>\n",
              "    </tr>\n",
              "    <tr>\n",
              "      <th>1</th>\n",
              "      <td>1.826301e-06</td>\n",
              "      <td>8.893188e-07</td>\n",
              "      <td>9.999961e-01</td>\n",
              "      <td>7.836410e-07</td>\n",
              "      <td>1.386659e-10</td>\n",
              "      <td>2.963249e-11</td>\n",
              "      <td>8.219578e-09</td>\n",
              "      <td>1.220322e-07</td>\n",
              "      <td>2.077228e-07</td>\n",
              "      <td>5.697527e-11</td>\n",
              "    </tr>\n",
              "    <tr>\n",
              "      <th>2</th>\n",
              "      <td>2.648095e-04</td>\n",
              "      <td>9.957954e-01</td>\n",
              "      <td>8.281107e-04</td>\n",
              "      <td>2.642601e-05</td>\n",
              "      <td>8.399163e-04</td>\n",
              "      <td>6.067457e-05</td>\n",
              "      <td>1.188723e-04</td>\n",
              "      <td>1.558103e-03</td>\n",
              "      <td>4.958194e-04</td>\n",
              "      <td>1.193634e-05</td>\n",
              "    </tr>\n",
              "    <tr>\n",
              "      <th>3</th>\n",
              "      <td>9.996787e-01</td>\n",
              "      <td>1.945327e-09</td>\n",
              "      <td>3.126984e-04</td>\n",
              "      <td>7.437103e-09</td>\n",
              "      <td>1.178236e-10</td>\n",
              "      <td>1.344628e-07</td>\n",
              "      <td>8.304470e-07</td>\n",
              "      <td>5.005858e-06</td>\n",
              "      <td>6.924887e-09</td>\n",
              "      <td>2.670252e-06</td>\n",
              "    </tr>\n",
              "    <tr>\n",
              "      <th>4</th>\n",
              "      <td>2.659843e-06</td>\n",
              "      <td>2.031476e-06</td>\n",
              "      <td>2.354828e-06</td>\n",
              "      <td>4.940363e-07</td>\n",
              "      <td>9.998577e-01</td>\n",
              "      <td>1.307515e-07</td>\n",
              "      <td>2.384867e-07</td>\n",
              "      <td>2.743699e-05</td>\n",
              "      <td>5.929312e-07</td>\n",
              "      <td>1.064571e-04</td>\n",
              "    </tr>\n",
              "    <tr>\n",
              "      <th>...</th>\n",
              "      <td>...</td>\n",
              "      <td>...</td>\n",
              "      <td>...</td>\n",
              "      <td>...</td>\n",
              "      <td>...</td>\n",
              "      <td>...</td>\n",
              "      <td>...</td>\n",
              "      <td>...</td>\n",
              "      <td>...</td>\n",
              "      <td>...</td>\n",
              "    </tr>\n",
              "    <tr>\n",
              "      <th>9995</th>\n",
              "      <td>3.661478e-09</td>\n",
              "      <td>4.738850e-08</td>\n",
              "      <td>9.999990e-01</td>\n",
              "      <td>7.631170e-07</td>\n",
              "      <td>5.574019e-14</td>\n",
              "      <td>1.879282e-13</td>\n",
              "      <td>1.715947e-12</td>\n",
              "      <td>2.077902e-07</td>\n",
              "      <td>1.349256e-08</td>\n",
              "      <td>6.804421e-12</td>\n",
              "    </tr>\n",
              "    <tr>\n",
              "      <th>9996</th>\n",
              "      <td>1.627973e-10</td>\n",
              "      <td>1.537567e-09</td>\n",
              "      <td>1.581338e-06</td>\n",
              "      <td>9.999977e-01</td>\n",
              "      <td>1.030541e-11</td>\n",
              "      <td>6.234504e-07</td>\n",
              "      <td>2.415143e-13</td>\n",
              "      <td>2.452763e-10</td>\n",
              "      <td>6.895714e-08</td>\n",
              "      <td>3.358562e-08</td>\n",
              "    </tr>\n",
              "    <tr>\n",
              "      <th>9997</th>\n",
              "      <td>2.075397e-08</td>\n",
              "      <td>9.225751e-08</td>\n",
              "      <td>4.332597e-09</td>\n",
              "      <td>1.032651e-09</td>\n",
              "      <td>9.999968e-01</td>\n",
              "      <td>3.921699e-10</td>\n",
              "      <td>4.208083e-10</td>\n",
              "      <td>4.734256e-07</td>\n",
              "      <td>6.339324e-07</td>\n",
              "      <td>2.037304e-06</td>\n",
              "    </tr>\n",
              "    <tr>\n",
              "      <th>9998</th>\n",
              "      <td>9.890923e-06</td>\n",
              "      <td>1.056685e-10</td>\n",
              "      <td>5.141745e-07</td>\n",
              "      <td>6.307020e-08</td>\n",
              "      <td>2.922839e-12</td>\n",
              "      <td>9.999030e-01</td>\n",
              "      <td>7.164807e-06</td>\n",
              "      <td>1.220007e-07</td>\n",
              "      <td>7.915602e-05</td>\n",
              "      <td>8.260148e-08</td>\n",
              "    </tr>\n",
              "    <tr>\n",
              "      <th>9999</th>\n",
              "      <td>7.103968e-06</td>\n",
              "      <td>1.384639e-11</td>\n",
              "      <td>7.988890e-08</td>\n",
              "      <td>2.509359e-09</td>\n",
              "      <td>4.165611e-10</td>\n",
              "      <td>5.894440e-07</td>\n",
              "      <td>9.999919e-01</td>\n",
              "      <td>3.255498e-11</td>\n",
              "      <td>3.117880e-07</td>\n",
              "      <td>2.581077e-09</td>\n",
              "    </tr>\n",
              "  </tbody>\n",
              "</table>\n",
              "<p>10000 rows × 10 columns</p>\n",
              "</div>\n",
              "      <button class=\"colab-df-convert\" onclick=\"convertToInteractive('df-8c60b58e-1715-4d3c-a26f-3afd0d2df551')\"\n",
              "              title=\"Convert this dataframe to an interactive table.\"\n",
              "              style=\"display:none;\">\n",
              "        \n",
              "  <svg xmlns=\"http://www.w3.org/2000/svg\" height=\"24px\"viewBox=\"0 0 24 24\"\n",
              "       width=\"24px\">\n",
              "    <path d=\"M0 0h24v24H0V0z\" fill=\"none\"/>\n",
              "    <path d=\"M18.56 5.44l.94 2.06.94-2.06 2.06-.94-2.06-.94-.94-2.06-.94 2.06-2.06.94zm-11 1L8.5 8.5l.94-2.06 2.06-.94-2.06-.94L8.5 2.5l-.94 2.06-2.06.94zm10 10l.94 2.06.94-2.06 2.06-.94-2.06-.94-.94-2.06-.94 2.06-2.06.94z\"/><path d=\"M17.41 7.96l-1.37-1.37c-.4-.4-.92-.59-1.43-.59-.52 0-1.04.2-1.43.59L10.3 9.45l-7.72 7.72c-.78.78-.78 2.05 0 2.83L4 21.41c.39.39.9.59 1.41.59.51 0 1.02-.2 1.41-.59l7.78-7.78 2.81-2.81c.8-.78.8-2.07 0-2.86zM5.41 20L4 18.59l7.72-7.72 1.47 1.35L5.41 20z\"/>\n",
              "  </svg>\n",
              "      </button>\n",
              "      \n",
              "  <style>\n",
              "    .colab-df-container {\n",
              "      display:flex;\n",
              "      flex-wrap:wrap;\n",
              "      gap: 12px;\n",
              "    }\n",
              "\n",
              "    .colab-df-convert {\n",
              "      background-color: #E8F0FE;\n",
              "      border: none;\n",
              "      border-radius: 50%;\n",
              "      cursor: pointer;\n",
              "      display: none;\n",
              "      fill: #1967D2;\n",
              "      height: 32px;\n",
              "      padding: 0 0 0 0;\n",
              "      width: 32px;\n",
              "    }\n",
              "\n",
              "    .colab-df-convert:hover {\n",
              "      background-color: #E2EBFA;\n",
              "      box-shadow: 0px 1px 2px rgba(60, 64, 67, 0.3), 0px 1px 3px 1px rgba(60, 64, 67, 0.15);\n",
              "      fill: #174EA6;\n",
              "    }\n",
              "\n",
              "    [theme=dark] .colab-df-convert {\n",
              "      background-color: #3B4455;\n",
              "      fill: #D2E3FC;\n",
              "    }\n",
              "\n",
              "    [theme=dark] .colab-df-convert:hover {\n",
              "      background-color: #434B5C;\n",
              "      box-shadow: 0px 1px 3px 1px rgba(0, 0, 0, 0.15);\n",
              "      filter: drop-shadow(0px 1px 2px rgba(0, 0, 0, 0.3));\n",
              "      fill: #FFFFFF;\n",
              "    }\n",
              "  </style>\n",
              "\n",
              "      <script>\n",
              "        const buttonEl =\n",
              "          document.querySelector('#df-8c60b58e-1715-4d3c-a26f-3afd0d2df551 button.colab-df-convert');\n",
              "        buttonEl.style.display =\n",
              "          google.colab.kernel.accessAllowed ? 'block' : 'none';\n",
              "\n",
              "        async function convertToInteractive(key) {\n",
              "          const element = document.querySelector('#df-8c60b58e-1715-4d3c-a26f-3afd0d2df551');\n",
              "          const dataTable =\n",
              "            await google.colab.kernel.invokeFunction('convertToInteractive',\n",
              "                                                     [key], {});\n",
              "          if (!dataTable) return;\n",
              "\n",
              "          const docLinkHtml = 'Like what you see? Visit the ' +\n",
              "            '<a target=\"_blank\" href=https://colab.research.google.com/notebooks/data_table.ipynb>data table notebook</a>'\n",
              "            + ' to learn more about interactive tables.';\n",
              "          element.innerHTML = '';\n",
              "          dataTable['output_type'] = 'display_data';\n",
              "          await google.colab.output.renderOutput(dataTable, element);\n",
              "          const docLink = document.createElement('div');\n",
              "          docLink.innerHTML = docLinkHtml;\n",
              "          element.appendChild(docLink);\n",
              "        }\n",
              "      </script>\n",
              "    </div>\n",
              "  </div>\n",
              "  "
            ],
            "text/plain": [
              "                 0             1  ...             8             9\n",
              "0     3.144344e-07  1.200504e-06  ...  5.042979e-06  1.385890e-05\n",
              "1     1.826301e-06  8.893188e-07  ...  2.077228e-07  5.697527e-11\n",
              "2     2.648095e-04  9.957954e-01  ...  4.958194e-04  1.193634e-05\n",
              "3     9.996787e-01  1.945327e-09  ...  6.924887e-09  2.670252e-06\n",
              "4     2.659843e-06  2.031476e-06  ...  5.929312e-07  1.064571e-04\n",
              "...            ...           ...  ...           ...           ...\n",
              "9995  3.661478e-09  4.738850e-08  ...  1.349256e-08  6.804421e-12\n",
              "9996  1.627973e-10  1.537567e-09  ...  6.895714e-08  3.358562e-08\n",
              "9997  2.075397e-08  9.225751e-08  ...  6.339324e-07  2.037304e-06\n",
              "9998  9.890923e-06  1.056685e-10  ...  7.915602e-05  8.260148e-08\n",
              "9999  7.103968e-06  1.384639e-11  ...  3.117880e-07  2.581077e-09\n",
              "\n",
              "[10000 rows x 10 columns]"
            ]
          },
          "metadata": {}
        }
      ]
    },
    {
      "cell_type": "markdown",
      "source": [
        "**STEP 10:** Get the testing score"
      ],
      "metadata": {
        "id": "HyxapSVQRxZE"
      }
    },
    {
      "cell_type": "code",
      "source": [
        "test_score = cnn.evaluate(test_in, test_out, verbose=0)\n",
        "\n",
        "test_results = [\"Testing Loss (%): \", str(100 * test_score[0]), \"Testing Accuracy (%): \", str(100 * test_score[1])]\n",
        "print(*test_results, sep=\"\\n\")   "
      ],
      "metadata": {
        "colab": {
          "base_uri": "https://localhost:8080/"
        },
        "id": "pYeP6UdjRonP",
        "outputId": "7ef0b873-f20e-4c66-ef3c-7cc1ab1b24c5"
      },
      "execution_count": 64,
      "outputs": [
        {
          "output_type": "stream",
          "name": "stdout",
          "text": [
            "Testing Loss (%): \n",
            "7.47632309794426\n",
            "Testing Accuracy (%): \n",
            "97.87999987602234\n"
          ]
        }
      ]
    },
    {
      "cell_type": "markdown",
      "source": [
        "**STEP 11:** Save evaluation results and outputs to a file"
      ],
      "metadata": {
        "id": "6tIh6aHmRUUZ"
      }
    },
    {
      "cell_type": "code",
      "source": [
        "results = np.array([train_results, test_results])\n",
        "results_file = pd.DataFrame(results)\n",
        "\n",
        "# predicted values versus actual values on training data\n",
        "train_compare = pd.DataFrame((np.vstack((pred_train_out,train_out))))\n",
        "# predicted values versus actual values on testing data\n",
        "test_compare = pd.DataFrame((np.vstack((pred_test_out,test_out))))\n",
        "\n",
        "# filepath to \"Saved Files\" folder\n",
        "savedir = \"Saved Files\" + os.sep\n",
        "# export evaluation results\n",
        "results_file.to_csv(savedir + \"score.csv\", index = False, header = False)\n",
        "# export training outputs\n",
        "train_compare.to_csv(savedir + \"Predicted Training Outputs.csv\", index = False, header = None)\n",
        "# export test outputs\n",
        "test_compare.to_csv(savedir + \"Predicted Test Outputs.csv\", index = False, header = None)"
      ],
      "metadata": {
        "id": "4H07VnFnRZt3"
      },
      "execution_count": 65,
      "outputs": []
    },
    {
      "cell_type": "markdown",
      "source": [
        "**STEP 12:** Display results to the console"
      ],
      "metadata": {
        "id": "KqfzUgiEQ8KL"
      }
    },
    {
      "cell_type": "code",
      "source": [
        "for elt in results: print(*elt, sep=\"\\n\")    "
      ],
      "metadata": {
        "colab": {
          "base_uri": "https://localhost:8080/"
        },
        "id": "8JY8IJETRDM6",
        "outputId": "65d9f9b6-36c8-409d-ca24-a537ccfe711c"
      },
      "execution_count": 66,
      "outputs": [
        {
          "output_type": "stream",
          "name": "stdout",
          "text": [
            "Training Loss (%): \n",
            "6.0118477791547775\n",
            "Training Accuracy (%): \n",
            "98.11999797821045\n",
            "Testing Loss (%): \n",
            "7.47632309794426\n",
            "Testing Accuracy (%): \n",
            "97.87999987602234\n"
          ]
        }
      ]
    }
  ],
  "metadata": {
    "accelerator": "GPU",
    "colab": {
      "name": "run_cnn.ipynb",
      "provenance": []
    },
    "kernelspec": {
      "display_name": "Python 3",
      "name": "python3"
    },
    "language_info": {
      "name": "python"
    }
  },
  "nbformat": 4,
  "nbformat_minor": 0
}